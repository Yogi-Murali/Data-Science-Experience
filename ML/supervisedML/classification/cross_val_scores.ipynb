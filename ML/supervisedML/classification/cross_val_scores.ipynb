{
 "cells": [
  {
   "cell_type": "markdown",
   "id": "4691f010",
   "metadata": {},
   "source": [
    "## importing req and known algorithms and models to see accuracy scores"
   ]
  },
  {
   "cell_type": "code",
   "execution_count": 1,
   "id": "40edc467",
   "metadata": {},
   "outputs": [],
   "source": [
    "import numpy as np\n",
    "from sklearn.linear_model import LinearRegression\n",
    "from sklearn.linear_model import LogisticRegression\n",
    "from sklearn.svm import SVC\n",
    "from sklearn.ensemble import RandomForestClassifier\n",
    "from sklearn.tree import DecisionTreeClassifier"
   ]
  },
  {
   "cell_type": "markdown",
   "id": "fa1937ea",
   "metadata": {},
   "source": [
    "## dataset"
   ]
  },
  {
   "cell_type": "code",
   "execution_count": 2,
   "id": "02da0cfd",
   "metadata": {},
   "outputs": [],
   "source": [
    "from sklearn.datasets import load_digits\n",
    "digits = load_digits()"
   ]
  },
  {
   "cell_type": "markdown",
   "id": "faeb083d",
   "metadata": {},
   "source": [
    "## import cross_val_score model "
   ]
  },
  {
   "cell_type": "code",
   "execution_count": 3,
   "id": "5438e884",
   "metadata": {},
   "outputs": [],
   "source": [
    "from sklearn.model_selection import cross_val_score"
   ]
  },
  {
   "cell_type": "markdown",
   "id": "b92ead5a",
   "metadata": {},
   "source": [
    "## linear regression"
   ]
  },
  {
   "cell_type": "code",
   "execution_count": 4,
   "id": "8149cef6",
   "metadata": {},
   "outputs": [
    {
     "data": {
      "text/plain": [
       "array([0.48346048, 0.5583603 , 0.57534522, 0.5056632 , 0.40995457])"
      ]
     },
     "execution_count": 4,
     "metadata": {},
     "output_type": "execute_result"
    }
   ],
   "source": [
    "li_scores = cross_val_score(LinearRegression(),digits.data, digits.target)\n",
    "li_scores"
   ]
  },
  {
   "cell_type": "code",
   "execution_count": 5,
   "id": "7925ff8b",
   "metadata": {},
   "outputs": [
    {
     "data": {
      "text/plain": [
       "0.5065567550630685"
      ]
     },
     "execution_count": 5,
     "metadata": {},
     "output_type": "execute_result"
    }
   ],
   "source": [
    "np.average(li_scores)"
   ]
  },
  {
   "cell_type": "markdown",
   "id": "28765920",
   "metadata": {},
   "source": [
    "## logistic regression"
   ]
  },
  {
   "cell_type": "code",
   "execution_count": 6,
   "id": "3d75eea6",
   "metadata": {},
   "outputs": [
    {
     "data": {
      "text/plain": [
       "array([0.92222222, 0.88333333, 0.95264624, 0.95821727, 0.89415042])"
      ]
     },
     "execution_count": 6,
     "metadata": {},
     "output_type": "execute_result"
    }
   ],
   "source": [
    "lg_scores = cross_val_score(LogisticRegression(solver = 'liblinear',max_iter=1000),digits.data, digits.target)\n",
    "lg_scores"
   ]
  },
  {
   "cell_type": "code",
   "execution_count": 7,
   "id": "61a0ebf5",
   "metadata": {},
   "outputs": [
    {
     "data": {
      "text/plain": [
       "0.9221138966264315"
      ]
     },
     "execution_count": 7,
     "metadata": {},
     "output_type": "execute_result"
    }
   ],
   "source": [
    "np.average(lg_scores)"
   ]
  },
  {
   "cell_type": "markdown",
   "id": "4b388869",
   "metadata": {},
   "source": [
    "## svm algorithm"
   ]
  },
  {
   "cell_type": "code",
   "execution_count": 8,
   "id": "41ce27c9",
   "metadata": {},
   "outputs": [
    {
     "data": {
      "text/plain": [
       "array([0.96111111, 0.94444444, 0.98328691, 0.98885794, 0.93871866])"
      ]
     },
     "execution_count": 8,
     "metadata": {},
     "output_type": "execute_result"
    }
   ],
   "source": [
    "svm_scores = cross_val_score(SVC(), digits.data, digits.target)\n",
    "svm_scores"
   ]
  },
  {
   "cell_type": "code",
   "execution_count": 9,
   "id": "bd83e742",
   "metadata": {},
   "outputs": [
    {
     "data": {
      "text/plain": [
       "0.9632838130609718"
      ]
     },
     "execution_count": 9,
     "metadata": {},
     "output_type": "execute_result"
    }
   ],
   "source": [
    "np.average(svm_scores)"
   ]
  },
  {
   "cell_type": "markdown",
   "id": "39e68ecd",
   "metadata": {},
   "source": [
    "## random forest classifier algorithm"
   ]
  },
  {
   "cell_type": "code",
   "execution_count": 10,
   "id": "775c3acb",
   "metadata": {},
   "outputs": [
    {
     "data": {
      "text/plain": [
       "array([0.92777778, 0.91111111, 0.94986072, 0.95264624, 0.9275766 ])"
      ]
     },
     "execution_count": 10,
     "metadata": {},
     "output_type": "execute_result"
    }
   ],
   "source": [
    "rf_scores = cross_val_score(RandomForestClassifier(n_estimators=40),digits.data,digits.target)\n",
    "rf_scores"
   ]
  },
  {
   "cell_type": "code",
   "execution_count": 11,
   "id": "f93ad8a6",
   "metadata": {},
   "outputs": [
    {
     "data": {
      "text/plain": [
       "0.9337944908696999"
      ]
     },
     "execution_count": 11,
     "metadata": {},
     "output_type": "execute_result"
    }
   ],
   "source": [
    "np.average(rf_scores)"
   ]
  },
  {
   "cell_type": "markdown",
   "id": "abfe3c75",
   "metadata": {},
   "source": [
    "## decision tree classifier algorithm"
   ]
  },
  {
   "cell_type": "code",
   "execution_count": 12,
   "id": "c5b194f9",
   "metadata": {},
   "outputs": [
    {
     "data": {
      "text/plain": [
       "array([0.76666667, 0.71944444, 0.7994429 , 0.81337047, 0.79665738])"
      ]
     },
     "execution_count": 12,
     "metadata": {},
     "output_type": "execute_result"
    }
   ],
   "source": [
    "de_scores = cross_val_score(DecisionTreeClassifier(), digits.data, digits.target)\n",
    "de_scores"
   ]
  },
  {
   "cell_type": "code",
   "execution_count": 13,
   "id": "74079ac2",
   "metadata": {},
   "outputs": [
    {
     "data": {
      "text/plain": [
       "0.7791163726400495"
      ]
     },
     "execution_count": 13,
     "metadata": {},
     "output_type": "execute_result"
    }
   ],
   "source": [
    "np.average(de_scores)"
   ]
  },
  {
   "cell_type": "markdown",
   "id": "370d110c",
   "metadata": {},
   "source": [
    "### so far SVM performs best in predicting digits : 0.9632838130609718"
   ]
  },
  {
   "cell_type": "code",
   "execution_count": null,
   "id": "815a4e32",
   "metadata": {},
   "outputs": [],
   "source": []
  }
 ],
 "metadata": {
  "kernelspec": {
   "display_name": "Python 3 (ipykernel)",
   "language": "python",
   "name": "python3"
  },
  "language_info": {
   "codemirror_mode": {
    "name": "ipython",
    "version": 3
   },
   "file_extension": ".py",
   "mimetype": "text/x-python",
   "name": "python",
   "nbconvert_exporter": "python",
   "pygments_lexer": "ipython3",
   "version": "3.10.5"
  }
 },
 "nbformat": 4,
 "nbformat_minor": 5
}
